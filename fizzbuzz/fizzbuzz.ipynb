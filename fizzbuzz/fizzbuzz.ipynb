{
 "cells": [
  {
   "cell_type": "code",
   "execution_count": null,
   "metadata": {},
   "outputs": [],
   "source": [
    "#defining a function \n",
    "def fizzBuzz(n):\n",
    "    #checking that n is multiple of both 3 & 5 or not \n",
    "    if n % 3 == 0 and n % 5 == 0:\n",
    "        print(\"FizzBuzz\")\n",
    "    #checking that n is multiple of 3 or not \n",
    "    elif n % 3 == 0 and n % 5 != 0:\n",
    "         print(\"Fizz\")\n",
    "    #checking that n is multiple of 5 or not \n",
    "    elif n % 5 == 0 and n % 3 != 0:\n",
    "        print(\"Buzz\")\n",
    "    #printing the number as it is\n",
    "    else:\n",
    "        print(n)\n",
    "#running function in side for loop  \n",
    "for n in range(1,101):\n",
    "     a = fizzBuzz(n)\n",
    " "
   ]
  }
 ],
 "metadata": {
  "kernelspec": {
   "display_name": "Python 3",
   "language": "python",
   "name": "python3"
  },
  "language_info": {
   "codemirror_mode": {
    "name": "ipython",
    "version": 3
   },
   "file_extension": ".py",
   "mimetype": "text/x-python",
   "name": "python",
   "nbconvert_exporter": "python",
   "pygments_lexer": "ipython3",
   "version": "3.7.6"
  }
 },
 "nbformat": 4,
 "nbformat_minor": 4
}
